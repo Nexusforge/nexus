{
 "cells": [
  {
   "cell_type": "code",
   "execution_count": 3,
   "metadata": {
    "dotnet_interactive": {
     "language": "csharp"
    }
   },
   "outputs": [
    {
     "name": "stdout",
     "output_type": "stream",
     "text": [
      "Requirement already satisfied: httpx in c:\\users\\wilvin\\appdata\\local\\programs\\python\\python39\\lib\\site-packages (0.22.0)\n",
      "Requirement already satisfied: rfc3986[idna2008]<2,>=1.3 in c:\\users\\wilvin\\appdata\\local\\programs\\python\\python39\\lib\\site-packages (from httpx) (1.5.0)\n",
      "Requirement already satisfied: certifi in c:\\users\\wilvin\\appdata\\local\\programs\\python\\python39\\lib\\site-packages (from httpx) (2021.10.8)\n",
      "Requirement already satisfied: sniffio in c:\\users\\wilvin\\appdata\\local\\programs\\python\\python39\\lib\\site-packages (from httpx) (1.2.0)\n",
      "Requirement already satisfied: httpcore<0.15.0,>=0.14.5 in c:\\users\\wilvin\\appdata\\local\\programs\\python\\python39\\lib\\site-packages (from httpx) (0.14.7)\n",
      "Requirement already satisfied: charset-normalizer in c:\\users\\wilvin\\appdata\\local\\programs\\python\\python39\\lib\\site-packages (from httpx) (2.0.12)\n",
      "Requirement already satisfied: h11<0.13,>=0.11 in c:\\users\\wilvin\\appdata\\local\\programs\\python\\python39\\lib\\site-packages (from httpcore<0.15.0,>=0.14.5->httpx) (0.12.0)\n",
      "Requirement already satisfied: anyio==3.* in c:\\users\\wilvin\\appdata\\local\\programs\\python\\python39\\lib\\site-packages (from httpcore<0.15.0,>=0.14.5->httpx) (3.5.0)\n",
      "Requirement already satisfied: idna>=2.8 in c:\\users\\wilvin\\appdata\\local\\programs\\python\\python39\\lib\\site-packages (from anyio==3.*->httpcore<0.15.0,>=0.14.5->httpx) (3.3)\n"
     ]
    },
    {
     "name": "stderr",
     "output_type": "stream",
     "text": [
      "WARNING: You are using pip version 21.2.4; however, version 22.0.3 is available.\n",
      "You should consider upgrading via the 'C:\\Users\\wilvin\\AppData\\Local\\Programs\\Python\\Python39\\python.exe -m pip install --upgrade pip' command.\n"
     ]
    },
    {
     "name": "stdout",
     "output_type": "stream",
     "text": [
      "Looking in indexes: https://www.myget.org/F/apollo3zehn-dev/python/\n",
      "Collecting nexusapi\n"
     ]
    },
    {
     "name": "stderr",
     "output_type": "stream",
     "text": [
      "WARNING: You are using pip version 21.2.4; however, version 22.0.3 is available.\n",
      "You should consider upgrading via the 'C:\\Users\\wilvin\\AppData\\Local\\Programs\\Python\\Python39\\python.exe -m pip install --upgrade pip' command.\n"
     ]
    },
    {
     "name": "stdout",
     "output_type": "stream",
     "text": [
      "  Downloading https://az774065.vo.msecnd.net/privatefeedapollo3zehn0dev/nexusapi-1.0.0b1192-py3-none-any.whl?sv=2015-12-11&sr=b&sig=BM%2FNs%2BkzAcBKTXc9I2f08nK9tbcNwYERRbBnAJnZlrk%3D&st=2022-03-03T10%3A55%3A00Z&se=2022-03-03T12%3A05%3A00Z&sp=r&rscc=max-age%3D3600&rsct=binary%2Foctet-stream&rscd=filename%3Dnexusapi-1.0.0b1192-py3-none-any.whl (9.6 kB)\n",
      "Requirement already satisfied: httpx>=0.22.0 in c:\\users\\wilvin\\appdata\\local\\programs\\python\\python39\\lib\\site-packages (from nexusapi) (0.22.0)\n",
      "Requirement already satisfied: httpcore<0.15.0,>=0.14.5 in c:\\users\\wilvin\\appdata\\local\\programs\\python\\python39\\lib\\site-packages (from httpx>=0.22.0->nexusapi) (0.14.7)\n",
      "Requirement already satisfied: sniffio in c:\\users\\wilvin\\appdata\\local\\programs\\python\\python39\\lib\\site-packages (from httpx>=0.22.0->nexusapi) (1.2.0)\n",
      "Requirement already satisfied: charset-normalizer in c:\\users\\wilvin\\appdata\\local\\programs\\python\\python39\\lib\\site-packages (from httpx>=0.22.0->nexusapi) (2.0.12)\n",
      "Requirement already satisfied: rfc3986[idna2008]<2,>=1.3 in c:\\users\\wilvin\\appdata\\local\\programs\\python\\python39\\lib\\site-packages (from httpx>=0.22.0->nexusapi) (1.5.0)\n",
      "Requirement already satisfied: certifi in c:\\users\\wilvin\\appdata\\local\\programs\\python\\python39\\lib\\site-packages (from httpx>=0.22.0->nexusapi) (2021.10.8)\n",
      "Requirement already satisfied: h11<0.13,>=0.11 in c:\\users\\wilvin\\appdata\\local\\programs\\python\\python39\\lib\\site-packages (from httpcore<0.15.0,>=0.14.5->httpx>=0.22.0->nexusapi) (0.12.0)\n",
      "Requirement already satisfied: anyio==3.* in c:\\users\\wilvin\\appdata\\local\\programs\\python\\python39\\lib\\site-packages (from httpcore<0.15.0,>=0.14.5->httpx>=0.22.0->nexusapi) (3.5.0)\n",
      "Requirement already satisfied: idna>=2.8 in c:\\users\\wilvin\\appdata\\local\\programs\\python\\python39\\lib\\site-packages (from anyio==3.*->httpcore<0.15.0,>=0.14.5->httpx>=0.22.0->nexusapi) (3.3)\n",
      "Installing collected packages: nexusapi\n",
      "Successfully installed nexusapi-1.0.0b1192\n"
     ]
    }
   ],
   "source": [
    "import sys\n",
    "\n",
    "!{sys.executable} -m pip install httpx\n",
    "!{sys.executable} -m pip install --pre --index-url https://www.myget.org/F/apollo3zehn-dev/python/ nexusapi"
   ]
  },
  {
   "cell_type": "code",
   "execution_count": null,
   "metadata": {},
   "outputs": [],
   "source": [
    "from nexusapi import NexusAsyncClient\n",
    "\n",
    "base_url = \"https://localhost:8443\"\n",
    "client = NexusAsyncClient.create(base_url):"
   ]
  }
 ],
 "metadata": {
  "interpreter": {
   "hash": "13dc37502def81616598036cd24253534bde9704e3b2dde5378488b1b9330fd3"
  },
  "kernelspec": {
   "display_name": ".NET (C#)",
   "language": "python",
   "name": "python3"
  },
  "language_info": {
   "codemirror_mode": {
    "name": "ipython",
    "version": 3
   },
   "file_extension": ".py",
   "mimetype": "text/x-python",
   "name": "python",
   "nbconvert_exporter": "python",
   "pygments_lexer": "ipython3",
   "version": "3.9.10"
  }
 },
 "nbformat": 4,
 "nbformat_minor": 2
}
